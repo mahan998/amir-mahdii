{
 "cells": [
  {
   "cell_type": "code",
   "execution_count": 1,
   "metadata": {},
   "outputs": [
    {
     "name": "stdout",
     "output_type": "stream",
     "text": [
      "          name  chain        type  seat  location  menu items  rate  telephone\n",
      "0        shila   True  Restaurant    50         1          59   4.7   88862491\n",
      "1         land   True       Pizza    40         1          45   4.3   88215242\n",
      "2         naam  False        Café    30         0          20   4.0   88922948\n",
      "3         noon   True        Café    15         1          15   5.0   38449276\n",
      "4      shabdiz   True  Restaurant   100         1          42   4.9   38666666\n",
      "5    neyshekar   True      Pastry     0         1           8   4.0  3724 1053\n",
      "6    naan reza  False      Bakery     0         0           3   4.0   32259269\n",
      "7  chorak amin  False      Bakery     0         0          10   4.5  3876 2200\n",
      "8  iran burger    NaN   Fast Food    20         1          40   4.7  3603 1616\n"
     ]
    }
   ],
   "source": [
    "import pandas as ps\n",
    "a = ps.read_csv(\"sooooo.csv\")\n",
    "print(a)"
   ]
  }
 ],
 "metadata": {
  "kernelspec": {
   "display_name": "Python 3",
   "language": "python",
   "name": "python3"
  },
  "language_info": {
   "codemirror_mode": {
    "name": "ipython",
    "version": 3
   },
   "file_extension": ".py",
   "mimetype": "text/x-python",
   "name": "python",
   "nbconvert_exporter": "python",
   "pygments_lexer": "ipython3",
   "version": "3.11.4"
  }
 },
 "nbformat": 4,
 "nbformat_minor": 2
}
